{
  "cells": [
    {
      "cell_type": "markdown",
      "metadata": {},
      "source": [
        "Using Numpy, calculate the mean, variance, standard deviation, max, min, and sum of the rows, columns, and elements in a 3 x 3 matrix.\n",
        "\n",
        "The input of the function should be a list containing 9 digits. The function should convert the list into a 3 x 3 Numpy array, and then return a dictionary containing the mean, variance, standard deviation, max, min, and sum along both axes and for the flattened matrix."
      ]
    },
    {
      "cell_type": "code",
      "execution_count": null,
      "metadata": {
        "id": "Qjz3YFlZ5HeH"
      },
      "outputs": [],
      "source": [
        "import numpy as np"
      ]
    },
    {
      "cell_type": "code",
      "execution_count": null,
      "metadata": {
        "colab": {
          "base_uri": "https://localhost:8080/"
        },
        "id": "5u5Otfpe5P8-",
        "outputId": "67b4a893-134a-4111-9418-46452790541a"
      },
      "outputs": [
        {
          "name": "stdout",
          "output_type": "stream",
          "text": [
            "[[0 1 2]\n",
            " [3 4 5]\n",
            " [6 7 8]]\n"
          ]
        }
      ],
      "source": [
        "given = [0,1,2,3,4,5,6,7,8]\n",
        "data = np.array(given).reshape(3,3)\n",
        "print(data)"
      ]
    },
    {
      "cell_type": "code",
      "execution_count": null,
      "metadata": {
        "colab": {
          "base_uri": "https://localhost:8080/"
        },
        "id": "LW-sICjG5jnO",
        "outputId": "4b816b58-db89-4a3a-b0f4-ca01f71d98d2"
      },
      "outputs": [
        {
          "name": "stdout",
          "output_type": "stream",
          "text": [
            "4.0 2.581988897471611 6.666666666666667 8 0 36\n"
          ]
        }
      ],
      "source": [
        "f_mean = np.mean(data)\n",
        "f_var = np.var(data)\n",
        "f_std = np.std(data)\n",
        "f_max = np.max(data)\n",
        "f_min = np.min(data)\n",
        "f_sum = np.sum(data)\n",
        "print(f_mean, f_std, f_var, f_max, f_min, f_sum)"
      ]
    },
    {
      "cell_type": "code",
      "execution_count": null,
      "metadata": {
        "colab": {
          "base_uri": "https://localhost:8080/"
        },
        "id": "pfwsWeJH5uFV",
        "outputId": "9fe41268-2d7a-4bbf-d912-95bddd6a14f1"
      },
      "outputs": [
        {
          "name": "stdout",
          "output_type": "stream",
          "text": [
            "[3. 4. 5.] [2.44948974 2.44948974 2.44948974] [6. 6. 6.] [6 7 8] [0 1 2] [ 9 12 15]\n"
          ]
        }
      ],
      "source": [
        "ax0_mean = np.mean(data, axis = 0)\n",
        "ax0_var = np.var(data, axis = 0)\n",
        "ax0_std = np.std(data, axis = 0)\n",
        "ax0_max = np.max(data, axis = 0)\n",
        "ax0_min = np.min(data, axis = 0)\n",
        "ax0_sum = np.sum(data, axis = 0)\n",
        "print(ax0_mean, ax0_std, ax0_var, ax0_max, ax0_min, ax0_sum)"
      ]
    },
    {
      "cell_type": "code",
      "execution_count": null,
      "metadata": {
        "id": "QUiGreBy6xEM"
      },
      "outputs": [],
      "source": []
    },
    {
      "cell_type": "code",
      "execution_count": null,
      "metadata": {
        "colab": {
          "base_uri": "https://localhost:8080/"
        },
        "id": "dVT_4lso7TEA",
        "outputId": "375071b1-54f1-4349-b4f8-6b7ee0d6f98c"
      },
      "outputs": [
        {
          "name": "stdout",
          "output_type": "stream",
          "text": [
            "[1. 4. 7.] [0.81649658 0.81649658 0.81649658] [0.66666667 0.66666667 0.66666667] [2 5 8] [0 3 6] [ 3 12 21]\n"
          ]
        }
      ],
      "source": [
        "ax1_mean = np.mean(data, axis = 1)\n",
        "ax1_var = np.var(data, axis = 1)\n",
        "ax1_std = np.std(data, axis = 1)\n",
        "ax1_max = np.max(data, axis = 1)\n",
        "ax1_min = np.min(data, axis = 1)\n",
        "ax1_sum = np.sum(data, axis = 1)\n",
        "print(ax1_mean, ax1_std, ax1_var, ax1_max, ax1_min, ax1_sum)"
      ]
    },
    {
      "cell_type": "code",
      "execution_count": null,
      "metadata": {
        "colab": {
          "base_uri": "https://localhost:8080/"
        },
        "id": "GCMJXNuX7crE",
        "outputId": "1944ed89-1121-4a65-ac6c-e2c8e3143461"
      },
      "outputs": [
        {
          "name": "stdout",
          "output_type": "stream",
          "text": [
            "{'mean': [array([3., 4., 5.]), array([1., 4., 7.]), 4.0], 'variance': [array([6., 6., 6.]), array([0.66666667, 0.66666667, 0.66666667]), 6.666666666666667], 'standard deviation': [array([2.44948974, 2.44948974, 2.44948974]), array([0.81649658, 0.81649658, 0.81649658]), 2.581988897471611], 'max': [array([6, 7, 8]), array([2, 5, 8]), 8], 'min': [array([0, 1, 2]), array([0, 3, 6]), 0], 'sum': [array([ 9, 12, 15]), array([ 3, 12, 21]), 36]}\n"
          ]
        }
      ],
      "source": [
        "calculations =  {\n",
        "    'mean' : [ax0_mean, ax1_mean, f_mean],\n",
        "    'variance':[ax0_var, ax1_var, f_var],\n",
        "    'standard deviation':[ax0_std, ax1_std, f_std],\n",
        "    'max':[ax0_max, ax1_max, f_max],\n",
        "    'min': [ax0_min, ax1_min, f_min],\n",
        "    'sum': [ax0_sum, ax1_sum, f_sum]\n",
        "}\n",
        "print(calculations)"
      ]
    },
    {
      "cell_type": "code",
      "execution_count": null,
      "metadata": {
        "id": "73g4xCX871-u"
      },
      "outputs": [],
      "source": []
    }
  ],
  "metadata": {
    "colab": {
      "provenance": []
    },
    "kernelspec": {
      "display_name": "Python 3",
      "name": "python3"
    },
    "language_info": {
      "name": "python"
    }
  },
  "nbformat": 4,
  "nbformat_minor": 0
}
